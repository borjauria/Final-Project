{
 "cells": [
  {
   "cell_type": "markdown",
   "metadata": {},
   "source": [
    "## import the libraries to use"
   ]
  },
  {
   "cell_type": "code",
   "execution_count": null,
   "metadata": {},
   "outputs": [],
   "source": [
    "from bs4 import BeautifulSoup\n",
    "import io\n",
    "import pandas as pd\n",
    "import re\n",
    "from datetime import date\n",
    "from datetime import datetime\n",
    "import requests"
   ]
  },
  {
   "cell_type": "markdown",
   "metadata": {},
   "source": [
    "## functions"
   ]
  },
  {
   "cell_type": "code",
   "execution_count": null,
   "metadata": {},
   "outputs": [],
   "source": [
    "def scrapping (tarifa, day = str(date.today())):\n",
    "    url = 'https://tarifaluzhora.es/?tarifa=' + tarifa\n",
    "    page = requests.get(url)\n",
    "    soup = BeautifulSoup(page.text, \"html.parser\")\n",
    "    price_ = soup.findAll(\"span\", {\"itemprop\": \"price\"})\n",
    "    hours_ = soup.findAll(\"span\", {\"itemprop\": \"description\"})\n",
    "    price_hour_ = [price.get_text() for price in price_]\n",
    "    schedule_ = [time.get_text() for time in hours_]\n",
    "    df = pd.DataFrame.from_dict({'precio':price_hour_,'horario':schedule_})\n",
    "    df['hora'] = [int(x[:2]) for x in df['horario']]\n",
    "    df['tarifa'] = tarifa\n",
    "    df['minimo'] = df['precio'].min()\n",
    "    df['precio'] =  [re.sub(r'\\€\\/[k][W][h]','', str(x)) for x in df['precio']]\n",
    "    df['horario'] =  [re.sub(r'[:]','', str(x)) for x in df['horario']]\n",
    "    \n",
    "    df = scrapping('coche_electrico')\n",
    "    df = df.filter(items = ['tarifa', 'precio','hora'])\n",
    "    df = df.groupby(\"precio\").min().reset_index()\n",
    "    df = df.to_dict(orient = 'index')\n",
    "    \n",
    "    return df"
   ]
  },
  {
   "cell_type": "code",
   "execution_count": null,
   "metadata": {},
   "outputs": [],
   "source": [
    "print(df)"
   ]
  },
  {
   "cell_type": "markdown",
   "metadata": {},
   "source": [
    "## extract fares from scrapping function"
   ]
  },
  {
   "cell_type": "code",
   "execution_count": null,
   "metadata": {},
   "outputs": [],
   "source": [
    "#df = scrapping('coche_electrico')"
   ]
  },
  {
   "cell_type": "code",
   "execution_count": null,
   "metadata": {},
   "outputs": [],
   "source": [
    "#df = df.filter(items = ['tarifa', 'precio','hora'])"
   ]
  },
  {
   "cell_type": "code",
   "execution_count": null,
   "metadata": {},
   "outputs": [],
   "source": [
    "df = df.groupby(\"precio\").min().reset_index()"
   ]
  },
  {
   "cell_type": "code",
   "execution_count": null,
   "metadata": {},
   "outputs": [],
   "source": [
    "# I convert the df to json\n",
    "#df3 = df.to_dict(orient = 'index')\n",
    "#df3"
   ]
  },
  {
   "cell_type": "code",
   "execution_count": null,
   "metadata": {},
   "outputs": [],
   "source": []
  }
 ],
 "metadata": {
  "kernelspec": {
   "display_name": "pollas_env",
   "language": "python",
   "name": "pollas_env"
  },
  "language_info": {
   "codemirror_mode": {
    "name": "ipython",
    "version": 3
   },
   "file_extension": ".py",
   "mimetype": "text/x-python",
   "name": "python",
   "nbconvert_exporter": "python",
   "pygments_lexer": "ipython3",
   "version": "3.7.7"
  }
 },
 "nbformat": 4,
 "nbformat_minor": 2
}
